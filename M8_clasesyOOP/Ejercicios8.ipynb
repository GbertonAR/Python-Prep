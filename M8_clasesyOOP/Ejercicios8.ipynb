{
 "cells": [
  {
   "cell_type": "code",
   "execution_count": null,
   "metadata": {},
   "outputs": [],
   "source": [
    "1) Crear la clase vehículo que contenga los atributos:<br>\n",
    "Color<br>\n",
    "Si es moto, auto, camioneta ó camión<br>\n",
    "Cilindrada del motor"
   ]
  },
  {
   "cell_type": "code",
   "execution_count": 1,
   "metadata": {},
   "outputs": [],
   "source": [
    "class vehiculo:\n",
    "    def __init__(self, color, tipo, motor):\n",
    "        self.color=color\n",
    "        self.tipo=tipo\n",
    "        self.motor=motor\n",
    "       "
   ]
  },
  {
   "attachments": {},
   "cell_type": "markdown",
   "metadata": {},
   "source": [
    "# 2) A la clase Vehiculo creada en el punto 1, agregar los siguientes métodos:<br>\n",
    "# Acelerar<br>\n",
    "# Frenar<br>\n",
    "# Doblar<br>"
   ]
  },
  {
   "cell_type": "code",
   "execution_count": 44,
   "metadata": {},
   "outputs": [],
   "source": [
    "class vehiculo:\n",
    "    def __init__(self, color, tipo, motor):\n",
    "        self.color=color\n",
    "        self.tipo=tipo\n",
    "        self.motor=motor\n",
    "        self.velocidad=0\n",
    "        self.direccion=0\n",
    "        \n",
    "\n",
    "    def acelerar(self, velocidad):\n",
    "        self.velocidad +=velocidad\n",
    "            \n",
    "    def frenar(self, velocidad):\n",
    "        self.velocidad -= velocidad\n",
    "\n",
    "    def doblar(self, direccion):\n",
    "        self.direccion = direccion\n",
    "            \n",
    "    def estado(self):\n",
    "        print(f\"El estado de {self.tipo} es {self.velocidad}\")\n",
    "    "
   ]
  },
  {
   "attachments": {},
   "cell_type": "markdown",
   "metadata": {},
   "source": [
    "# 3) Instanciar 3 objetos de la clase vehículo y ejecutar sus métodos, probar luego el resultado"
   ]
  },
  {
   "cell_type": "code",
   "execution_count": 46,
   "metadata": {},
   "outputs": [
    {
     "name": "stdout",
     "output_type": "stream",
     "text": [
      "El estado de sedan es 0\n",
      "sedan rojo naftero\n",
      "SV blanco gas\n",
      "sedan azul electrico\n"
     ]
    }
   ],
   "source": [
    "a=vehiculo(\"rojo\",\"sedan\", \"naftero\")\n",
    "a1=vehiculo(\"blanco\",\"SV\", \"gas\")\n",
    "a2=vehiculo(\"azul\",\"sedan\", \"electrico\")\n",
    "a.estado()\n",
    "print(a.tipo , a.color, a.motor)\n",
    "print(a1.tipo , a1.color, a1.motor)\n",
    "print(a2.tipo , a2.color, a2.motor)\n"
   ]
  },
  {
   "attachments": {},
   "cell_type": "markdown",
   "metadata": {},
   "source": [
    "# 4) Agregar a la clase Vehiculo, un método que muestre su estado, es decir, a que velocidad se encuentra y su dirección. Y otro método que muestre color, tipo y cilindrada\n",
    "\n"
   ]
  },
  {
   "cell_type": "code",
   "execution_count": 29,
   "metadata": {},
   "outputs": [
    {
     "name": "stdout",
     "output_type": "stream",
     "text": [
      "<function mostrar_estado at 0x000001F04D19FA30>\n"
     ]
    }
   ],
   "source": [
    "print(mostrar_estado)"
   ]
  },
  {
   "attachments": {},
   "cell_type": "markdown",
   "metadata": {},
   "source": [
    "# 5) Crear una clase que permita utilizar las funciones creadas en la práctica del módulo 6<br>\n",
    "# Verificar Primo<br>\n",
    "# Valor modal<br>\n",
    "# Conversión grados<br>\n",
    "# Factorial<br>"
   ]
  },
  {
   "attachments": {},
   "cell_type": "markdown",
   "metadata": {},
   "source": [
    "\n",
    "# 6) Probar las funciones incorporadas en la clase del punto 5\n"
   ]
  },
  {
   "attachments": {},
   "cell_type": "markdown",
   "metadata": {},
   "source": [
    "# 7) Es necesario que la clase creada en el punto 5 contenga una lista, sobre la cual se aplquen las funciones incorporadas\n"
   ]
  },
  {
   "attachments": {},
   "cell_type": "markdown",
   "metadata": {},
   "source": [
    "# 8) Crear un archivo .py aparte y ubicar allí la clase generada en el punto anterior. Luego realizar la importación del módulo y probar alguna de sus funciones\n"
   ]
  }
 ],
 "metadata": {
  "kernelspec": {
   "display_name": "Python 3",
   "language": "python",
   "name": "python3"
  },
  "language_info": {
   "codemirror_mode": {
    "name": "ipython",
    "version": 3
   },
   "file_extension": ".py",
   "mimetype": "text/x-python",
   "name": "python",
   "nbconvert_exporter": "python",
   "pygments_lexer": "ipython3",
   "version": "3.10.5"
  },
  "orig_nbformat": 4
 },
 "nbformat": 4,
 "nbformat_minor": 2
}
