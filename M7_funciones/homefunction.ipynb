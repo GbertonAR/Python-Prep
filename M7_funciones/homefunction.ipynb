{
 "cells": [
  {
   "cell_type": "code",
   "execution_count": 3,
   "metadata": {},
   "outputs": [],
   "source": [
    "def verifica_primo(nro):\n",
    "    es_primo = True\n",
    "    if nro <=1:\n",
    "        print(\"los primos son mayores que 2\")\n",
    "        return None\n",
    "    if nro ==2:\n",
    "        return True\n",
    "    for i in range(2, nro):\n",
    "        if nro % i == 0:\n",
    "            es_primo = False\n",
    "            break\n",
    "    return es_primo"
   ]
  },
  {
   "cell_type": "code",
   "execution_count": 2,
   "metadata": {},
   "outputs": [
    {
     "name": "stdout",
     "output_type": "stream",
     "text": [
      "esto es una <class 'function'>\n"
     ]
    }
   ],
   "source": [
    "verifica_primo(3)\n",
    "print(f\"esto es una {type(verifica_primo)}\")"
   ]
  },
  {
   "cell_type": "code",
   "execution_count": 4,
   "metadata": {},
   "outputs": [
    {
     "ename": "NameError",
     "evalue": "name 'sys' is not defined",
     "output_type": "error",
     "traceback": [
      "\u001b[1;31m---------------------------------------------------------------------------\u001b[0m",
      "\u001b[1;31mNameError\u001b[0m                                 Traceback (most recent call last)",
      "\u001b[1;32mc:\\GBerton2023\\Henry\\Practicas\\Python-Prep\\M7_funciones\\homefunction.ipynb Celda 3\u001b[0m in \u001b[0;36m<cell line: 1>\u001b[1;34m()\u001b[0m\n\u001b[1;32m----> <a href='vscode-notebook-cell:/c%3A/GBerton2023/Henry/Practicas/Python-Prep/M7_funciones/homefunction.ipynb#W2sZmlsZQ%3D%3D?line=0'>1</a>\u001b[0m \u001b[39mprint\u001b[39m(sys\u001b[39m.\u001b[39mpath)\n",
      "\u001b[1;31mNameError\u001b[0m: name 'sys' is not defined"
     ]
    }
   ],
   "source": [
    "print(sys.path)"
   ]
  }
 ],
 "metadata": {
  "kernelspec": {
   "display_name": "Python 3",
   "language": "python",
   "name": "python3"
  },
  "language_info": {
   "codemirror_mode": {
    "name": "ipython",
    "version": 3
   },
   "file_extension": ".py",
   "mimetype": "text/x-python",
   "name": "python",
   "nbconvert_exporter": "python",
   "pygments_lexer": "ipython3",
   "version": "3.10.5"
  },
  "orig_nbformat": 4
 },
 "nbformat": 4,
 "nbformat_minor": 2
}
